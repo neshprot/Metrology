{
 "cells": [
  {
   "cell_type": "code",
   "execution_count": 32,
   "id": "e34cabf7-89c6-45a2-ac23-5fba06cbae2a",
   "metadata": {},
   "outputs": [],
   "source": [
    "import numpy as np\n",
    "import scipy.stats as stats"
   ]
  },
  {
   "cell_type": "markdown",
   "id": "f7ea4885-30e5-4420-8f55-42b687704153",
   "metadata": {},
   "source": [
    "Были получены следующие результаты химического анализа: 11,5; 11,0; 12,0; 13,0; 14,0; 14,5 мг/л. Известна относительная неисключенная систематическая погрешность 2,5%. Найти относительную суммарную погрешность анализа."
   ]
  },
  {
   "cell_type": "code",
   "execution_count": 88,
   "id": "b6bb5680-2336-40d4-b5a1-ac6e61324587",
   "metadata": {},
   "outputs": [],
   "source": [
    "X = np.array([11.5, 11, 12, 13, 14, 14.5])\n",
    "theta_r = 0.025"
   ]
  },
  {
   "cell_type": "code",
   "execution_count": 89,
   "id": "636b9b7a-5fad-45e5-a8af-9a662a741fa1",
   "metadata": {},
   "outputs": [
    {
     "data": {
      "text/plain": [
       "np.float64(12.666666666666666)"
      ]
     },
     "execution_count": 89,
     "metadata": {},
     "output_type": "execute_result"
    }
   ],
   "source": [
    "mean_X = np.mean(X)\n",
    "mean_X"
   ]
  },
  {
   "cell_type": "markdown",
   "id": "99313758-bd59-446d-85fd-0c234b124827",
   "metadata": {},
   "source": [
    "$S_x=\\frac{\\sum (x_i-\\bar{x})}{n-1}$\n",
    "\n",
    "$S_\\bar{x}=\\frac{S_x}{\\sqrt{n}}$"
   ]
  },
  {
   "cell_type": "code",
   "execution_count": 90,
   "id": "199d17ef-37ea-46df-82f9-7e9908252ed6",
   "metadata": {},
   "outputs": [
    {
     "data": {
      "text/plain": [
       "np.float64(1.4023789311975088)"
      ]
     },
     "metadata": {},
     "output_type": "display_data"
    },
    {
     "data": {
      "text/plain": [
       "np.float64(0.5725188012439224)"
      ]
     },
     "metadata": {},
     "output_type": "display_data"
    }
   ],
   "source": [
    "std = np.std(X, ddof=1)\n",
    "display(std)\n",
    "mean_std = std/np.sqrt(len(X))\n",
    "display(mean_std)"
   ]
  },
  {
   "cell_type": "markdown",
   "id": "e7252f0f-e1db-4a75-9efb-b12063327280",
   "metadata": {},
   "source": [
    "Находим относительное стандартное отклонение среднего\n",
    "$$S_{r,\\bar{x}}=\\frac{S_\\bar{x}}{\\bar{x}}$$"
   ]
  },
  {
   "cell_type": "code",
   "execution_count": 91,
   "id": "fa82292f-6224-49e1-9f5d-33424c709231",
   "metadata": {},
   "outputs": [
    {
     "data": {
      "text/plain": [
       "np.float64(0.04519885272978335)"
      ]
     },
     "execution_count": 91,
     "metadata": {},
     "output_type": "execute_result"
    }
   ],
   "source": [
    "r_std = mean_std/mean_X\n",
    "r_std"
   ]
  },
  {
   "cell_type": "markdown",
   "id": "7b856f5f-5fe8-4c6a-9ec7-30cbf2eb914a",
   "metadata": {},
   "source": [
    "Находим отношение систематической и случайной погрешностей\n",
    "$$\\frac{\\theta_r}{S_{r,\\bar{x}}}$$"
   ]
  },
  {
   "cell_type": "code",
   "execution_count": 92,
   "id": "89129007-85a3-4682-b447-9fcdefcbefcb",
   "metadata": {},
   "outputs": [
    {
     "data": {
      "text/plain": [
       "np.float64(0.5531113842526028)"
      ]
     },
     "execution_count": 92,
     "metadata": {},
     "output_type": "execute_result"
    }
   ],
   "source": [
    "ratio = theta_r/r_std\n",
    "ratio"
   ]
  },
  {
   "cell_type": "markdown",
   "id": "555d6348-e23a-465a-947e-85ba51044285",
   "metadata": {},
   "source": [
    "В методиках часто указывается, что если это отношение лежит в диапазоне от 0,8 до 8, то следует учитывать оба вида погрешностей. В нашем случае значение близко к этому диапазону, поэтому мы продолжим расчет с учетом обеих составляющих."
   ]
  },
  {
   "cell_type": "markdown",
   "id": "f22b7722-cb86-47d7-b3d0-019f28ce9a9e",
   "metadata": {},
   "source": [
    "Рассчитываем компонент систематической погрешности.\n",
    "\n",
    "Для расчета используется формула из методчики, где K — коэффициент, зависящий от закона распределения систематической погрешности. Для равномерного распределения, как правило, K = 1,1\n",
    "$$\\sum\\theta_{ri}^2 = \\left(\\frac{\\theta_r}{K}\\right)^2$$"
   ]
  },
  {
   "cell_type": "code",
   "execution_count": 93,
   "id": "8ec0fc80-37fb-4127-bfe5-20b48ac01a37",
   "metadata": {},
   "outputs": [
    {
     "data": {
      "text/plain": [
       "0.0005165289256198347"
      ]
     },
     "execution_count": 93,
     "metadata": {},
     "output_type": "execute_result"
    }
   ],
   "source": [
    "K = 1.1\n",
    "systematic_error = (theta_r/K)**2\n",
    "systematic_error"
   ]
  },
  {
   "cell_type": "markdown",
   "id": "b986c40a-a5fa-4929-8aec-4ded3a9156e7",
   "metadata": {},
   "source": [
    "Рассчитываем относительную случайную погрешность ($\\epsilon_r$)\n",
    "\n",
    "Эта величина представляет собой доверительный интервал для случайной погрешности.\n",
    "$$\\epsilon_r=t(0.05, f=n-1)\\cdot S_{r,\\bar{x}}$$"
   ]
  },
  {
   "cell_type": "code",
   "execution_count": 94,
   "id": "eebb2cce-a651-4003-a16f-70eb4dd55afc",
   "metadata": {},
   "outputs": [
    {
     "data": {
      "text/plain": [
       "np.float64(2.570581835636314)"
      ]
     },
     "execution_count": 94,
     "metadata": {},
     "output_type": "execute_result"
    }
   ],
   "source": [
    "confidence_level = 0.95\n",
    "df = len(X) - 1\n",
    "alpha = 1 - confidence_level\n",
    "q = 1 - alpha / 2\n",
    "t_critical = stats.t.ppf(q=q, df=df)\n",
    "t_critical"
   ]
  },
  {
   "cell_type": "code",
   "execution_count": 95,
   "id": "0bbb2d04-2122-4eec-bc92-b56f8c4dc234",
   "metadata": {},
   "outputs": [
    {
     "data": {
      "text/plain": [
       "np.float64(0.11618734981878191)"
      ]
     },
     "execution_count": 95,
     "metadata": {},
     "output_type": "execute_result"
    }
   ],
   "source": [
    "epsilon_r = t_critical*r_std\n",
    "epsilon_r"
   ]
  },
  {
   "cell_type": "markdown",
   "id": "f313a47c-d029-4faf-b602-f9b46dc1b1ef",
   "metadata": {},
   "source": [
    "Рассчитываем коэффициент k\n",
    "\n",
    "Этот коэффициент используется для нахождения суммарной погрешности. Следуем формуле из методичик:\n",
    "$$k=\\frac{\\epsilon_r+\\theta_r}{S_{r,\\bar{x}}+\\sqrt{\\frac{\\sum\\theta_{r,i}^2}{3}}}$$"
   ]
  },
  {
   "cell_type": "code",
   "execution_count": 96,
   "id": "73ef8d0a-fdc0-4b49-a5a1-5d6416fbf7fe",
   "metadata": {},
   "outputs": [
    {
     "data": {
      "text/plain": [
       "np.float64(2.420889249096896)"
      ]
     },
     "execution_count": 96,
     "metadata": {},
     "output_type": "execute_result"
    }
   ],
   "source": [
    "k = (epsilon_r+theta_r)/(r_std + np.sqrt(systematic_error/3))\n",
    "k"
   ]
  },
  {
   "cell_type": "markdown",
   "id": "139f4e8c-0b31-4011-b845-8e3dcb538a82",
   "metadata": {},
   "source": [
    "Рассчитываем суммарное относительное стандартное отклонение\n",
    "$S_{r,\\Sigma}=\\sqrt{S_{r,\\bar{x}}^2+\\frac{\\sum\\theta_{r,i}^2}{3}}$"
   ]
  },
  {
   "cell_type": "code",
   "execution_count": 97,
   "id": "e8cd7fc0-2291-4870-9a30-275e5981e268",
   "metadata": {},
   "outputs": [
    {
     "data": {
      "text/plain": [
       "np.float64(0.047064982700821094)"
      ]
     },
     "execution_count": 97,
     "metadata": {},
     "output_type": "execute_result"
    }
   ],
   "source": [
    "sum_r_std = np.sqrt(r_std**2+systematic_error/3)\n",
    "sum_r_std"
   ]
  },
  {
   "cell_type": "markdown",
   "id": "11cf1a44-8b55-4f00-8cc2-341173490215",
   "metadata": {},
   "source": [
    "Рассчитываем относительную суммарную погрешность \n",
    "$$\\delta=k\\cdot S_{r,\\Sigma}$$"
   ]
  },
  {
   "cell_type": "code",
   "execution_count": 98,
   "id": "79498bc3-e8f8-461b-856b-45a26c98f38f",
   "metadata": {},
   "outputs": [
    {
     "data": {
      "text/plain": [
       "np.float64(0.11393911062934917)"
      ]
     },
     "execution_count": 98,
     "metadata": {},
     "output_type": "execute_result"
    }
   ],
   "source": [
    "delta = k*sum_r_std\n",
    "delta"
   ]
  },
  {
   "cell_type": "markdown",
   "id": "59f877c7-5fd5-432b-8954-3a8b2f00a78e",
   "metadata": {},
   "source": [
    "Рассчитываем абсолютную суммарную погрешность\n",
    "$$\\Delta = \\bar{x}\\cdot \\delta$$"
   ]
  },
  {
   "cell_type": "code",
   "execution_count": 99,
   "id": "2cf9b991-2589-40e3-8566-b1e853e2a71c",
   "metadata": {},
   "outputs": [
    {
     "data": {
      "text/plain": [
       "np.float64(1.4432287346384227)"
      ]
     },
     "execution_count": 99,
     "metadata": {},
     "output_type": "execute_result"
    }
   ],
   "source": [
    "absolute_delta = mean_X * delta\n",
    "absolute_delta"
   ]
  },
  {
   "cell_type": "markdown",
   "id": "8875a963-43fc-4eff-a608-983739561657",
   "metadata": {},
   "source": [
    "Результат анализа, записанный с учетом суммарной погрешности, составляет:\n",
    "(12,7±1,4) мг/л"
   ]
  },
  {
   "cell_type": "markdown",
   "id": "7939d361-41b7-47b5-97f8-27542fd335c1",
   "metadata": {},
   "source": [
    "## Расчет общей погрешности по упрощенным формулам:"
   ]
  },
  {
   "cell_type": "markdown",
   "id": "b87c631e-a26b-4753-a838-3b639f0be37b",
   "metadata": {},
   "source": [
    "$$\\delta = \\sqrt{\\epsilon^2+\\theta^2}$$\n",
    "$$\\delta = 0.8(\\epsilon+\\theta)$$"
   ]
  },
  {
   "cell_type": "code",
   "execution_count": 100,
   "id": "e25f090b-a725-41e0-9902-da13d54e7414",
   "metadata": {},
   "outputs": [
    {
     "data": {
      "text/plain": [
       "np.float64(0.11884654079068521)"
      ]
     },
     "metadata": {},
     "output_type": "display_data"
    },
    {
     "data": {
      "text/plain": [
       "np.float64(0.11294987985502554)"
      ]
     },
     "metadata": {},
     "output_type": "display_data"
    }
   ],
   "source": [
    "delta1 = np.sqrt(epsilon_r**2 + theta_r**2)\n",
    "display(delta1)\n",
    "delta2 = 0.8*(epsilon_r+theta_r)\n",
    "display(delta2)"
   ]
  }
 ],
 "metadata": {
  "kernelspec": {
   "display_name": "Python 3 (ipykernel)",
   "language": "python",
   "name": "python3"
  },
  "language_info": {
   "codemirror_mode": {
    "name": "ipython",
    "version": 3
   },
   "file_extension": ".py",
   "mimetype": "text/x-python",
   "name": "python",
   "nbconvert_exporter": "python",
   "pygments_lexer": "ipython3",
   "version": "3.10.18"
  }
 },
 "nbformat": 4,
 "nbformat_minor": 5
}
