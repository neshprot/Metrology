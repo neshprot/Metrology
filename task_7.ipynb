{
 "cells": [
  {
   "cell_type": "markdown",
   "id": "2b6c8f50",
   "metadata": {},
   "source": [
    "# Задача 7\n",
    "## Условие задачи\n",
    "Получены следующие результаты параллельных определений содержания антител в сыворотке крови (%):\n",
    "2,15; 1,13; 2,04; 1,45; 1,35; 1,09;0,99; 2,07\n",
    "Предполагая логнормальный закон распределения, найти среднее значение, СКО и доверительный интервал для 95% вероятности. Оценить результат анализа и его εr используя неизвестный закон распределения. Значимо ли отличаются результаты, вычисленные для различных законов распределения?\n"
   ]
  },
  {
   "cell_type": "markdown",
   "id": "d07a4d9c",
   "metadata": {},
   "source": [
    "## Решение\n",
    "### Логнормальное распределение\n",
    "Посчитаем среднее логарифмов\n",
    "$$\\overline{\\lg{x}}=\\frac{\\sum\\limits_{i=1}^n\\lg{x_i}}{n}=0.384$$\n",
    "А также геометрическое среднее\n",
    "$$X=e^{\\overline{\\lg{x}}}=1.469$$"
   ]
  },
  {
   "cell_type": "code",
   "execution_count": 7,
   "id": "64e15037",
   "metadata": {},
   "outputs": [
    {
     "name": "stdout",
     "output_type": "stream",
     "text": [
      "Среднее значение: 0.3844974249084494,\n",
      "Среднее геометричесоке: 1.4688759154567719\n"
     ]
    }
   ],
   "source": [
    "import numpy as np\n",
    "x = np.array([2.15, 1.13, 2.04, 1.45, 1.35, 1.09, 0.99, 2.07])\n",
    "y = np.log(x)\n",
    "mean_y = np.mean(y)\n",
    "geom_mean_x = np.e ** mean_y\n",
    "print(f'Среднее значение: {mean_y},\\nСреднее геометричесоке: {geom_mean_x}')"
   ]
  },
  {
   "cell_type": "markdown",
   "id": "eb7bc77d",
   "metadata": {},
   "source": [
    "Вычислим среднее квадратическое отклонение\n",
    "$$S_{\\lg{x}}=\\sqrt{\\frac{1}{n-1}\\sum\\limits_{i=1}^{n}(\\lg{x_i}-\\lg{\\bar{x}})^2}$$\n",
    "Для измеряемой величины тогда среднее квадратическое отклонение будет равно\n",
    "$$S_{\\lg^{-1}{x}}=e^{S_{\\lg{x}}}$$"
   ]
  },
  {
   "cell_type": "code",
   "execution_count": 8,
   "id": "4c723b0b",
   "metadata": {},
   "outputs": [
    {
     "name": "stdout",
     "output_type": "stream",
     "text": [
      "СКО для логарифма: 0.3142897346036469\n",
      "СКО для измеряемой величины: 1.369286408734685\n"
     ]
    }
   ],
   "source": [
    "S_lg=np.std(y, ddof=1)\n",
    "S_x=np.e**S_lg\n",
    "print(f'СКО для логарифма: {S_lg}')\n",
    "print(f'СКО для измеряемой величины: {S_x}')"
   ]
  },
  {
   "cell_type": "markdown",
   "id": "fdecfeea",
   "metadata": {},
   "source": [
    "Доверительный интервал для уровня доверия P=0.95\n",
    "$$\\Delta_{0.95}=t_{0.95,7}\\cdot \\frac{S_{\\lg{x}}}{\\sqrt{n}}$$\n",
    "Если логарифм лежит в интервале\n",
    "$$\\overline{\\lg{x}}-t_{0.95,7}\\cdot \\frac{S_{\\lg{x}}}{\\sqrt{n}}\\le\\lg{x}\\le\\overline{\\lg{x}}-t_{0.95,7}\\cdot \\frac{S_{\\lg{x}}}{\\sqrt{n}}$$\n",
    "То измеряемое знаение\n",
    "$$\\frac{X}{e^{\\Delta_{0.95}}}\\le\\lg{x}\\le X\\cdot e^{\\Delta_{0.95}}$$"
   ]
  },
  {
   "cell_type": "code",
   "execution_count": 9,
   "id": "ee60d988",
   "metadata": {},
   "outputs": [
    {
     "name": "stdout",
     "output_type": "stream",
     "text": [
      "t = 2.3646\n",
      "0.26275279358209824\n",
      "Нижняя граница: 1.1294656348080794,\n",
      "Верхняя граница: 1.9102807456161266\n"
     ]
    }
   ],
   "source": [
    "\n",
    "from scipy import stats\n",
    "\n",
    "# Параметры\n",
    "alpha = 0.05       # уровень значимости при 95%\n",
    "df = len(x)-1            # число степеней свободы\n",
    "\n",
    "# Критическое значение для двустороннего теста:\n",
    "t = stats.t.ppf(1 - alpha/2, df)\n",
    "\n",
    "print(f\"t = {t:.4f}\")\n",
    "\n",
    "epsilon = t*S_lg/np.sqrt(len(x))\n",
    "print(epsilon)\n",
    "\n",
    "epsilon_down, epsilon_up = (geom_mean_x/np.e**epsilon, geom_mean_x*np.e**epsilon)\n",
    "print(f'Нижняя граница: {epsilon_down},\\nВерхняя граница: {epsilon_up}')"
   ]
  },
  {
   "cell_type": "markdown",
   "id": "352b1c68",
   "metadata": {},
   "source": [
    "### Неизвестное распределение\n",
    "Так как не знаем вид распределения, сделаем грубую оценку по неравенству Чебышева.\n",
    "Среднее значение\n",
    "$$\\bar{x}=\\frac{\\sum\\limits_{i=1}^n x_i}{n}$$\n",
    "Средне квадратичное отклонение\n",
    "$$S=\\sqrt{\\frac{1}{n-1}\\sum_{i=1}^{n}(x_i-\\bar{x})^2}$$\n",
    "Доверительный интервал согласно нормальному распределнию\n",
    "$$\\Delta=u\\cdot\\frac{S}{\\sqrt{n}}$$\n",
    "$$P(u)=2\\Phi(u)$$\n",
    "$$u=\\Phi^{-1}(\\frac{P(u)}{2})=\\Phi^{-1}(0.475)=1.95$$\n",
    "Заметим, что часто берут значение $u=2$\n",
    "Тогда\n",
    "$$\\epsilon=u\\cdot\\frac{S}{\\sqrt{n}}$$"
   ]
  },
  {
   "cell_type": "code",
   "execution_count": 10,
   "id": "10a8b47e",
   "metadata": {},
   "outputs": [
    {
     "name": "stdout",
     "output_type": "stream",
     "text": [
      "Среднее значение: 1.53375\n",
      "СКО: 0.481068379457937\n",
      "Доверительный интервал: +-0.3316625454959022\n",
      "Нижняя граница: 1.2020874545040978\n",
      "Верхняя граница: 1.865412545495902\n"
     ]
    }
   ],
   "source": [
    "mean_x=np.mean(x)\n",
    "S = np.std(x, ddof=1)\n",
    "u=1.95\n",
    "epsilon=u*S/np.sqrt(len(x))\n",
    "upper_e=mean_x+epsilon\n",
    "lower_e=mean_x-epsilon\n",
    "print(f'Среднее значение: {mean_x}\\nСКО: {S}\\nДоверительный интервал: +-{epsilon}\\n'\n",
    "      f'Нижняя граница: {lower_e}\\nВерхняя граница: {upper_e}')"
   ]
  },
  {
   "cell_type": "markdown",
   "id": "a88d5028",
   "metadata": {},
   "source": [
    "### Сравнение значений\n",
    "| Параметр | Неизвестное распределение | Логнормальное распределение|\n",
    "| --- | --- | --- |\n",
    "| Среднее значение |1.53375 | 1.4688 |\n",
    "| СКО | 0.481068379457937 | 1.369 |\n",
    "| Нижняя граница | 1.1316 | 1.2021 |\n",
    "| Верхняя граница | 1.9359 | 1.8654 |"
   ]
  }
 ],
 "metadata": {
  "kernelspec": {
   "display_name": "venv_metrology",
   "language": "python",
   "name": "python3"
  },
  "language_info": {
   "codemirror_mode": {
    "name": "ipython",
    "version": 3
   },
   "file_extension": ".py",
   "mimetype": "text/x-python",
   "name": "python",
   "nbconvert_exporter": "python",
   "pygments_lexer": "ipython3",
   "version": "3.13.7"
  }
 },
 "nbformat": 4,
 "nbformat_minor": 5
}
