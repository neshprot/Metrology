{
 "cells": [
  {
   "cell_type": "markdown",
   "id": "b7e35822",
   "metadata": {},
   "source": [
    "# Задача 12\n",
    "## Условие\n",
    "При определении константы диссоциации были получены следующие результаты параллельных определений: 4,27·10–4; 4,63·10–4; 4,18·10–4, Следует ли использовать все результаты при расчете среднего? Принять доверительную вероятность равной 0,95."
   ]
  },
  {
   "cell_type": "markdown",
   "id": "47fb1a14",
   "metadata": {},
   "source": [
    "## Решение\n",
    "Неоходимо првоерить, что не один результат измерения не является выбросом. Для неизвестного распределения можно использовать неравенство Чебышева\n",
    "$$P(\\bar{x}-z\\sigma\\le x\\le \\bar{x}+z\\sigma)\\ge 1-\\frac{1}{z^2}$$\n",
    "Для доверительной вероятности 0.95, решая неравенство\n",
    "$$0.95\\ge 1-\\frac{1}{z^2}$$\n",
    "Получаем $z=4.5$\n",
    "\n",
    "Вычислим среднее арефметическое и СКО\n",
    "$$\\bar{x}=\\frac{\\sum\\limits_{i=1}^n x_i}{n}$$\n",
    "$$S_x=\\sqrt{\\frac{1}{n-1}\\sum\\limits_{i=1}^n (x_i-\\bar{x})^2}$$"
   ]
  },
  {
   "cell_type": "code",
   "execution_count": 3,
   "id": "ec9114ca",
   "metadata": {},
   "outputs": [
    {
     "name": "stdout",
     "output_type": "stream",
     "text": [
      "Среднее арефметическое: 0.001717\n",
      "СКО: 0.0022110773392172425\n"
     ]
    }
   ],
   "source": [
    "import numpy as np\n",
    "x = np.array([42.7 * 10**(-4), 4.63*10**(-4), 4.18*10**(-4)])\n",
    "mean_x = np.mean(x)\n",
    "std_x= np.std(x, ddof=1)\n",
    "print(f'Среднее арефметическое: {mean_x}\\nСКО: {std_x}')"
   ]
  },
  {
   "cell_type": "markdown",
   "id": "d1aaee01",
   "metadata": {},
   "source": [
    "Теперь для каждого значения проверим неравенство\n",
    "$$\\frac{|x_i-\\bar{x}|}{S_x} \\le 4.5$$"
   ]
  },
  {
   "cell_type": "code",
   "execution_count": 4,
   "id": "95101d1b",
   "metadata": {},
   "outputs": [
    {
     "data": {
      "text/plain": [
       "[True, True, True]"
      ]
     },
     "execution_count": 4,
     "metadata": {},
     "output_type": "execute_result"
    }
   ],
   "source": [
    "def inequality(value, mean_v, std_v):\n",
    "    if abs(value-mean_v)/std_v <= 4.5:\n",
    "        return True\n",
    "    return False\n",
    "\n",
    "[inequality(v, mean_x, std_x) for v in x]"
   ]
  },
  {
   "cell_type": "markdown",
   "id": "068650dd",
   "metadata": {},
   "source": [
    "Как видим все значения прошли првоерку, следвоательно выбросов нет. И можно использовать все результаты при расчете среднего."
   ]
  }
 ],
 "metadata": {
  "kernelspec": {
   "display_name": "venv_metrology",
   "language": "python",
   "name": "python3"
  },
  "language_info": {
   "codemirror_mode": {
    "name": "ipython",
    "version": 3
   },
   "file_extension": ".py",
   "mimetype": "text/x-python",
   "name": "python",
   "nbconvert_exporter": "python",
   "pygments_lexer": "ipython3",
   "version": "3.13.7"
  }
 },
 "nbformat": 4,
 "nbformat_minor": 5
}
