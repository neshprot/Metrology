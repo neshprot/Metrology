{
 "cells": [
  {
   "cell_type": "markdown",
   "id": "2edf92f1-6dda-41ff-81f5-a45dc83fe89a",
   "metadata": {},
   "source": [
    "# Условие"
   ]
  },
  {
   "cell_type": "markdown",
   "id": "e40c4c4f-07f8-4b37-81f5-f4cb169e5f5f",
   "metadata": {},
   "source": [
    "Среднее из 5 результатов определения магния 10,20%, среднее из 3 результатов 10,30%. Дисперсии в обоих случаях одинаковы 4,0·10‑3%. Можно ли объединить результаты? Если да, найдите среднее и общую случайную погрешность результата."
   ]
  },
  {
   "cell_type": "markdown",
   "id": "94ad7c18-1ff6-4663-a708-0e090b47bd37",
   "metadata": {},
   "source": [
    "# Решение"
   ]
  },
  {
   "cell_type": "markdown",
   "id": "4cb7360c-4350-4e64-b7f0-f5cc4e52c4bd",
   "metadata": {},
   "source": [
    "Для каждой серии известно количество результатов, среднее квадратиечское и дисперсия:\n",
    "$$\\bar{x}=\\sum\\limits_{i=1}^{n}x_i$$\n",
    "$$S_x=\\sqrt{\\frac{\\sum\\limits_{i=1}^n(x_i-\\bar{x})^2}{n-1}}$$\n",
    "$$\\sigma^2=S_x^2$$"
   ]
  },
  {
   "cell_type": "code",
   "execution_count": 108,
   "id": "c43f138a-df2f-42b7-89aa-ba74ef529d78",
   "metadata": {},
   "outputs": [],
   "source": [
    "n_1 = 5\n",
    "mean1 = 10.2\n",
    "n_2 = 3\n",
    "mean2 = 10.3\n",
    "sigma=4*10**(-3)\n",
    "S_1=S_2=math.sqrt(sigma)"
   ]
  },
  {
   "cell_type": "markdown",
   "id": "8e4d1cf3-2971-4c4c-91c0-a4d004c0a7f8",
   "metadata": {},
   "source": [
    "а) Критерий Фишера\n",
    "$$\\frac{S_1^2}{S_2^2}=1$$\n",
    "$$F_{crit}=F(0.05,4,2)=19.2$$"
   ]
  },
  {
   "cell_type": "markdown",
   "id": "b964d441-8ae1-415c-8825-b3634db0c895",
   "metadata": {},
   "source": [
    "Следовательно серии равнорассеяны"
   ]
  },
  {
   "cell_type": "markdown",
   "id": "4da205cc-64bf-4ff2-ab00-bd9fb4cec014",
   "metadata": {},
   "source": [
    "Сравним результаты двух серий\n",
    "$$|\\bar{x}_1-\\bar{x}_2|=0.1$$"
   ]
  },
  {
   "cell_type": "markdown",
   "id": "b574e045-8262-48f4-9cb4-24f3e91ee024",
   "metadata": {},
   "source": [
    "$$t(P=0.95,f=n_1+n_2-2)\\cdot S_{\\bar{x}_1-\\bar{x}_2}=t(0.95,6)\\cdot\\sqrt{\\frac{S_1^2}{n_1}+\\frac{S_2^2}{n_2}} = t(0.95,1)\\cdot\\sigma*\\sqrt{\\frac{1}{n_1}+\\frac{1}{n_2}}$$"
   ]
  },
  {
   "cell_type": "code",
   "execution_count": 109,
   "id": "220647c3-b980-45b5-a260-9a1b1e09c809",
   "metadata": {},
   "outputs": [
    {
     "data": {
      "text/plain": [
       "0.11316065276116666"
      ]
     },
     "execution_count": 109,
     "metadata": {},
     "output_type": "execute_result"
    }
   ],
   "source": [
    "2.45*math.sqrt(sigma*(1/n_1+1/n_2))"
   ]
  },
  {
   "cell_type": "markdown",
   "id": "7adc82b4-56a3-4c27-b9aa-111f865d632e",
   "metadata": {},
   "source": [
    "Следовательно\n",
    "$$|x_1-x_2|<t(P=0.95,f=1)\\cdot S_{\\bar{x}_1-\\bar{x}_2}$$"
   ]
  },
  {
   "cell_type": "markdown",
   "id": "9d4a4fb7-2f25-4def-af19-9689ec61df1e",
   "metadata": {},
   "source": [
    "Посчитаем теперь средневзвешенное среднее\n",
    "$$\\bar{\\bar{x}}=\\frac{\\sum\\frac{\\bar{x}_i n_i}{S_i^2}}{\\sum\\frac{n_i}{S_i^2}}=\\frac{\\sum{\\bar{x}_i n_i}}{\\sum{n_i}}$$"
   ]
  },
  {
   "cell_type": "code",
   "execution_count": 110,
   "id": "2f8b0440-4f93-4f33-bb49-ae0d1d14d7c2",
   "metadata": {},
   "outputs": [
    {
     "data": {
      "text/plain": [
       "10.2375"
      ]
     },
     "execution_count": 110,
     "metadata": {},
     "output_type": "execute_result"
    }
   ],
   "source": [
    "mean_mean = (mean1*n_1+mean2*n_2)/(n_1+n_2)\n",
    "mean_mean"
   ]
  },
  {
   "cell_type": "markdown",
   "id": "9f9b2e1e-5206-4ab4-80bb-3a716db785e4",
   "metadata": {},
   "source": [
    "Доверительные границы случайной погрешности средневзвешенного среднего при нормальном законе распределения оцениваются по формуле\n",
    "$$\\epsilon_\\bar{\\bar{x}}=\\pm t(P,f)\\sqrt{\\frac{\\sum f_iS_i^2}{\\sum f_i\\cdot\\sum n_i}}=\\pm\\sqrt{\\frac{\\sigma^2}{\\sum n_i}}$$"
   ]
  },
  {
   "cell_type": "code",
   "execution_count": 111,
   "id": "10aea7c6-0821-4784-8b84-d0a772ad7ef1",
   "metadata": {},
   "outputs": [
    {
     "data": {
      "text/plain": [
       "0.05478366544874485"
      ]
     },
     "execution_count": 111,
     "metadata": {},
     "output_type": "execute_result"
    }
   ],
   "source": [
    "epsilon = 2.45*math.sqrt(sigma/(n_1+n_2))\n",
    "epsilon"
   ]
  }
 ],
 "metadata": {
  "kernelspec": {
   "display_name": "Python 3 (ipykernel)",
   "language": "python",
   "name": "python3"
  },
  "language_info": {
   "codemirror_mode": {
    "name": "ipython",
    "version": 3
   },
   "file_extension": ".py",
   "mimetype": "text/x-python",
   "name": "python",
   "nbconvert_exporter": "python",
   "pygments_lexer": "ipython3",
   "version": "3.10.18"
  }
 },
 "nbformat": 4,
 "nbformat_minor": 5
}
